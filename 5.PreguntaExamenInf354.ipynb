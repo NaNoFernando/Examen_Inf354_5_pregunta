{
 "cells": [
  {
   "cell_type": "markdown",
   "metadata": {},
   "source": [
    "## 5. Con el uso de librerías en PYTHON, construya la dependencia de Abuelos, tios, padres, primos e hijos de su familia."
   ]
  },
  {
   "cell_type": "code",
   "execution_count": 3,
   "metadata": {},
   "outputs": [],
   "source": [
    "from kanren import run,eq,var\n",
    "from kanren import Relation,facts"
   ]
  },
  {
   "cell_type": "code",
   "execution_count": 133,
   "metadata": {},
   "outputs": [],
   "source": [
    "x=var()"
   ]
  },
  {
   "cell_type": "code",
   "execution_count": 134,
   "metadata": {},
   "outputs": [],
   "source": [
    "parientes=Relation()"
   ]
  },
  {
   "cell_type": "code",
   "execution_count": 135,
   "metadata": {},
   "outputs": [],
   "source": [
    "facts(parientes,(\"Susana\",\"Fernando\"),\n",
    "                (\"Susana\",\"Leonardo\"),\n",
    "                (\"Justo\",\"Fernando\"),\n",
    "                (\"Justo\",\"Leonardo\"),\n",
    "                (\"Eloy\",\"Justo\"),\n",
    "                (\"Eloysa\",\"Justo\"),\n",
    "                (\"Veronica\",\"Joaquin\"),\n",
    "                (\"Veronica\",\"Moises\"),\n",
    "                (\"Jaime\",\"Joaquin\"),\n",
    "                (\"Jaime\",\"Moises\"),\n",
    "                (\"Eusebio\",\"Jaime\"),\n",
    "                (\"Eusebia\",\"Jaime\"),\n",
    "                (\"Luisa\",\"Susana\"),\n",
    "                (\"Luisa\",\"Marina\"),\n",
    "                (\"Luisa\",\"Veronica\"),\n",
    "                (\"Juan\",\"Marina\"),\n",
    "                (\"Juan\",\"Veronica\"),\n",
    "                (\"Juan\",\"Susana\"))"
   ]
  },
  {
   "cell_type": "code",
   "execution_count": 136,
   "metadata": {},
   "outputs": [],
   "source": [
    "def hermanos(a1,a2):#Fernando es Hermano de Leonardo\n",
    "    if (run(2,x,parientes(x,a1))==run(2,x,parientes(x,a2))):\n",
    "        return True\n",
    "    else:\n",
    "        return False"
   ]
  },
  {
   "cell_type": "code",
   "execution_count": 137,
   "metadata": {},
   "outputs": [],
   "source": [
    "def hijo(a1,a2):#Fernando es hijo de Susana\n",
    "    a=run(2,x,parientes(x,a1))\n",
    "    b=a[1]\n",
    "    c=a[0]\n",
    "    \n",
    "    if(a2==b or a2==c):\n",
    "        return True\n",
    "    else:\n",
    "        return False\n"
   ]
  },
  {
   "cell_type": "code",
   "execution_count": 138,
   "metadata": {},
   "outputs": [],
   "source": [
    "def abuelo(a1,a2):#Luisa es abuela de Fernando\n",
    "    a=run(2,x,parientes(x,a2))\n",
    "    b=a[1]\n",
    "    c=a[0]\n",
    "    if(hijo(b,a1) or hijo(c,a1)):\n",
    "        return True\n",
    "    else:\n",
    "        return False\n",
    "    "
   ]
  },
  {
   "cell_type": "code",
   "execution_count": 139,
   "metadata": {},
   "outputs": [],
   "source": [
    "def primo(a1,a2):#Moises es primo de Leonardo\n",
    "    a=run(2,x,parientes(x,a2))\n",
    "    b=a[1]\n",
    "    c=a[0]\n",
    "    d=run(2,x,parientes(x,a1))\n",
    "    e=d[1]\n",
    "    f=d[0]\n",
    "    if((hermanos(b,e) or hermanos(b,f) or hermanos(c,e) or hermanos(c,f)) and (a != d)):\n",
    "        return True\n",
    "    else:\n",
    "        return False"
   ]
  },
  {
   "cell_type": "code",
   "execution_count": 140,
   "metadata": {},
   "outputs": [],
   "source": [
    "def padre(a1,a2):#Jaime es padre de Moises\n",
    "    a=run(2,x,parientes(x,a2))\n",
    "    b=a[1]\n",
    "    c=a[0]\n",
    "    if(b==a1 or c==a1):\n",
    "        return True\n",
    "    else: \n",
    "        return False"
   ]
  },
  {
   "cell_type": "code",
   "execution_count": 141,
   "metadata": {},
   "outputs": [
    {
     "data": {
      "text/plain": [
       "True"
      ]
     },
     "execution_count": 141,
     "metadata": {},
     "output_type": "execute_result"
    }
   ],
   "source": [
    "hermanos(\"Fernando\",\"Leonardo\")"
   ]
  },
  {
   "cell_type": "code",
   "execution_count": 142,
   "metadata": {},
   "outputs": [
    {
     "data": {
      "text/plain": [
       "False"
      ]
     },
     "execution_count": 142,
     "metadata": {},
     "output_type": "execute_result"
    }
   ],
   "source": [
    "hijo(\"Fernando\",\"Veronica\")"
   ]
  },
  {
   "cell_type": "code",
   "execution_count": 143,
   "metadata": {},
   "outputs": [
    {
     "data": {
      "text/plain": [
       "True"
      ]
     },
     "execution_count": 143,
     "metadata": {},
     "output_type": "execute_result"
    }
   ],
   "source": [
    "abuelo(\"Eusebio\",\"Joaquin\")"
   ]
  },
  {
   "cell_type": "code",
   "execution_count": 144,
   "metadata": {},
   "outputs": [
    {
     "data": {
      "text/plain": [
       "False"
      ]
     },
     "execution_count": 144,
     "metadata": {},
     "output_type": "execute_result"
    }
   ],
   "source": [
    "primo(\"Moises\",\"Joaquin\")"
   ]
  },
  {
   "cell_type": "code",
   "execution_count": 145,
   "metadata": {},
   "outputs": [
    {
     "data": {
      "text/plain": [
       "True"
      ]
     },
     "execution_count": 145,
     "metadata": {},
     "output_type": "execute_result"
    }
   ],
   "source": [
    "padre(\"Jaime\",\"Joaquin\")"
   ]
  }
 ],
 "metadata": {
  "kernelspec": {
   "display_name": "Python 3",
   "language": "python",
   "name": "python3"
  },
  "language_info": {
   "codemirror_mode": {
    "name": "ipython",
    "version": 3
   },
   "file_extension": ".py",
   "mimetype": "text/x-python",
   "name": "python",
   "nbconvert_exporter": "python",
   "pygments_lexer": "ipython3",
   "version": "3.7.3"
  }
 },
 "nbformat": 4,
 "nbformat_minor": 2
}
